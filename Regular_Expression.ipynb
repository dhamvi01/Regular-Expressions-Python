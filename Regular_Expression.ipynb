{
  "nbformat": 4,
  "nbformat_minor": 0,
  "metadata": {
    "colab": {
      "name": "Regular Expression.ipynb",
      "provenance": [],
      "collapsed_sections": [],
      "authorship_tag": "ABX9TyMBKbJDW87O+20TkCqWBT7M",
      "include_colab_link": true
    },
    "kernelspec": {
      "name": "python3",
      "display_name": "Python 3"
    }
  },
  "cells": [
    {
      "cell_type": "markdown",
      "metadata": {
        "id": "view-in-github",
        "colab_type": "text"
      },
      "source": [
        "<a href=\"https://colab.research.google.com/github/dhamvi01/Regular-Expressions-Python/blob/master/Regular_Expression.ipynb\" target=\"_parent\"><img src=\"https://colab.research.google.com/assets/colab-badge.svg\" alt=\"Open In Colab\"/></a>"
      ]
    },
    {
      "cell_type": "markdown",
      "metadata": {
        "id": "rM_dvgz5jsyA",
        "colab_type": "text"
      },
      "source": [
        "## Python RegEx\n",
        "##### A Regular Expression (RegEx) is a sequence of characters that defines a search pattern. For example"
      ]
    },
    {
      "cell_type": "code",
      "metadata": {
        "id": "3wqAAbkTjcQB",
        "colab_type": "code",
        "colab": {
          "base_uri": "https://localhost:8080/",
          "height": 50
        },
        "outputId": "99d9aa4c-6b1f-4a65-c896-022e1b1ea1cc"
      },
      "source": [
        "import re\n",
        "pattern = '^a...s$'       #any five letter string starting with a and ending with s\n",
        "test_string = 'abczz'\n",
        "print(1,re.match(test_string,pattern))\n",
        "test_string = 'abcss'\n",
        "print(2,re.match(pattern,test_string))"
      ],
      "execution_count": 1,
      "outputs": [
        {
          "output_type": "stream",
          "text": [
            "1 None\n",
            "2 <_sre.SRE_Match object; span=(0, 5), match='abcss'>\n"
          ],
          "name": "stdout"
        }
      ]
    },
    {
      "cell_type": "markdown",
      "metadata": {
        "id": "wjZeyztZmDQA",
        "colab_type": "text"
      },
      "source": [
        "### Specify Pattern Using RegEx\n",
        "\n",
        "To specify regular expressions, metacharacters are used. In the above example, ^ and $ are metacharacters."
      ]
    },
    {
      "cell_type": "markdown",
      "metadata": {
        "id": "RfJowBpcmc5O",
        "colab_type": "text"
      },
      "source": [
        "#### Metacharacters are characters that are interpreted in a special way by a RegEx engine. Here's a list of metacharacters:\n",
        "\n",
        "[] . ^ $ * + ? {} () \\ |"
      ]
    },
    {
      "cell_type": "markdown",
      "metadata": {
        "id": "U7edM_4JmomU",
        "colab_type": "text"
      },
      "source": [
        "#### 1. [] - Square brackets\n",
        "\n",
        "Square brackets specifies a set of characters you wish to match."
      ]
    },
    {
      "cell_type": "code",
      "metadata": {
        "id": "B-5fULRsqsPc",
        "colab_type": "code",
        "colab": {
          "base_uri": "https://localhost:8080/",
          "height": 84
        },
        "outputId": "1cbd4478-c727-49e0-89a2-7532473bf2fe"
      },
      "source": [
        "pat = \"India\"\n",
        "print(re.match(\"[I-a]\",pat)) # string start with I and end with a\n",
        "print(re.match(\"[^India]\",pat))  # string except 'India'\n",
        "pat = \"12476\"\n",
        "print(re.match(\"[1-6]\",pat)) # string start with 1 and end with 6\n",
        "print(re.match(\"[^0-9]\",pat)) # string with non digit character"
      ],
      "execution_count": 2,
      "outputs": [
        {
          "output_type": "stream",
          "text": [
            "<_sre.SRE_Match object; span=(0, 1), match='I'>\n",
            "None\n",
            "<_sre.SRE_Match object; span=(0, 1), match='1'>\n",
            "None\n"
          ],
          "name": "stdout"
        }
      ]
    },
    {
      "cell_type": "markdown",
      "metadata": {
        "id": "qXxARnGRvmwC",
        "colab_type": "text"
      },
      "source": [
        "### 2. . - Period\n",
        "\n",
        "A period matches any single character"
      ]
    },
    {
      "cell_type": "code",
      "metadata": {
        "id": "dmNPHJ9sS7kk",
        "colab_type": "code",
        "colab": {
          "base_uri": "https://localhost:8080/",
          "height": 50
        },
        "outputId": "6fa3cb80-d598-4185-e176-20ab926f0636"
      },
      "source": [
        "pat = \"India\"\n",
        "print(re.match(\"[I...a]\",pat)) # string start with I + three alphabets +  ends with a\n",
        "pat = \"abc\"\n",
        "print(re.match(\"[a.c]\",pat)) # string start with a + one alphabet +  ends with c"
      ],
      "execution_count": null,
      "outputs": [
        {
          "output_type": "stream",
          "text": [
            "<_sre.SRE_Match object; span=(0, 1), match='I'>\n",
            "<_sre.SRE_Match object; span=(0, 1), match='a'>\n"
          ],
          "name": "stdout"
        }
      ]
    },
    {
      "cell_type": "markdown",
      "metadata": {
        "id": "62VrMo1wQbxi",
        "colab_type": "text"
      },
      "source": [
        "### 3. ^ - Caret\n",
        "\n",
        "The caret symbol ^ is used to check if a string starts with a certain character."
      ]
    },
    {
      "cell_type": "code",
      "metadata": {
        "id": "X7XZ20-DQb5W",
        "colab_type": "code",
        "colab": {
          "base_uri": "https://localhost:8080/",
          "height": 50
        },
        "outputId": "3e5c2495-1794-456e-fd1d-7f5bac10d819"
      },
      "source": [
        "pat = \"green\"\n",
        "print(re.match(\"^g\",pat)) # String start with g \n",
        "pat = \"red\"\n",
        "print(re.match(\"^r\",pat)) # String start with r "
      ],
      "execution_count": null,
      "outputs": [
        {
          "output_type": "stream",
          "text": [
            "<_sre.SRE_Match object; span=(0, 1), match='g'>\n",
            "<_sre.SRE_Match object; span=(0, 1), match='r'>\n"
          ],
          "name": "stdout"
        }
      ]
    },
    {
      "cell_type": "markdown",
      "metadata": {
        "id": "3E9DltEZRQk7",
        "colab_type": "text"
      },
      "source": [
        "### 4. $ - Dollar\n",
        "\n",
        "The dollar symbol $ is used to check if a string ends with a certain character."
      ]
    },
    {
      "cell_type": "code",
      "metadata": {
        "id": "t1AQEBcMRQ29",
        "colab_type": "code",
        "colab": {
          "base_uri": "https://localhost:8080/",
          "height": 50
        },
        "outputId": "6894c5fd-eb3f-4a41-efc4-cd28351b8de9"
      },
      "source": [
        "pat = \"i like green\"\n",
        "print(re.search(r\"green$\",pat)) # String end with green \n",
        "pat = \"red\"\n",
        "print(re.search(\"d$\",pat)) # String end with d "
      ],
      "execution_count": 25,
      "outputs": [
        {
          "output_type": "stream",
          "text": [
            "<_sre.SRE_Match object; span=(7, 12), match='green'>\n",
            "<_sre.SRE_Match object; span=(2, 3), match='d'>\n"
          ],
          "name": "stdout"
        }
      ]
    },
    {
      "cell_type": "markdown",
      "metadata": {
        "id": "eMffRaJmSXix",
        "colab_type": "text"
      },
      "source": [
        "### 4. * - Star\n",
        "\n",
        "The star symbol * matches zero or more occurrences of the pattern left to it."
      ]
    },
    {
      "cell_type": "code",
      "metadata": {
        "id": "GyF-F3DPSXs7",
        "colab_type": "code",
        "colab": {
          "base_uri": "https://localhost:8080/",
          "height": 50
        },
        "outputId": "73ea847b-c870-4965-8384-124ea8a7a81b"
      },
      "source": [
        "pat = \"Green\"\n",
        "print(re.search(\"G*n\",pat)) # Matching string starting with G and ends with n \n",
        "pat = \"Red\"\n",
        "print(re.search(\"Ra*d\",pat)) # Matching string starting with Ra and ends with d "
      ],
      "execution_count": 29,
      "outputs": [
        {
          "output_type": "stream",
          "text": [
            "<_sre.SRE_Match object; span=(4, 5), match='n'>\n",
            "None\n"
          ],
          "name": "stdout"
        }
      ]
    },
    {
      "cell_type": "markdown",
      "metadata": {
        "id": "fzE_1u47THDd",
        "colab_type": "text"
      },
      "source": [
        "### 5. + - Plus\n",
        "\n",
        "The plus symbol + matches one or more occurrences of the pattern left to it."
      ]
    },
    {
      "cell_type": "code",
      "metadata": {
        "id": "EFVR0g_sTGPU",
        "colab_type": "code",
        "colab": {
          "base_uri": "https://localhost:8080/",
          "height": 50
        },
        "outputId": "e5d4520a-bd8b-473c-8d7c-467d2c47c23f"
      },
      "source": [
        "pat = \"Green\"\n",
        "print(re.search(\"e+e\",pat)) # String containing ee\n",
        "pat = \"Green\"\n",
        "print(re.search(\"r+n\",pat)) # String containing rn"
      ],
      "execution_count": 32,
      "outputs": [
        {
          "output_type": "stream",
          "text": [
            "<_sre.SRE_Match object; span=(2, 4), match='ee'>\n",
            "None\n"
          ],
          "name": "stdout"
        }
      ]
    },
    {
      "cell_type": "markdown",
      "metadata": {
        "id": "2Qvl-NvsTg4c",
        "colab_type": "text"
      },
      "source": [
        "### 6. ? - Question Mark\n",
        "\n",
        "The question mark symbol ? matches zero or one occurrence of the pattern left to it."
      ]
    },
    {
      "cell_type": "code",
      "metadata": {
        "id": "9mkZ8GDUThBT",
        "colab_type": "code",
        "colab": {
          "base_uri": "https://localhost:8080/",
          "height": 50
        },
        "outputId": "521284b9-85a4-452e-cebe-2efc37b6def0"
      },
      "source": [
        "pat = \"aa\"\n",
        "print(re.match(\"a?a\",pat)) # String end with a \n",
        "pat = \"abcd\"\n",
        "print(re.match(\"a?d\",pat)) # String end with a "
      ],
      "execution_count": null,
      "outputs": [
        {
          "output_type": "stream",
          "text": [
            "<_sre.SRE_Match object; span=(0, 2), match='aa'>\n",
            "None\n"
          ],
          "name": "stdout"
        }
      ]
    },
    {
      "cell_type": "markdown",
      "metadata": {
        "id": "76VFY10L0Cnw",
        "colab_type": "text"
      },
      "source": [
        "### 5.{} - Braces\n",
        "\n",
        "Consider this code: {n,m}. This means at least n, and at most m repetitions of the pattern left to it."
      ]
    },
    {
      "cell_type": "code",
      "metadata": {
        "id": "5UiaIdnbv16L",
        "colab_type": "code",
        "colab": {
          "base_uri": "https://localhost:8080/",
          "height": 50
        },
        "outputId": "492da263-acd0-4dc2-b8f4-75a8e5543291"
      },
      "source": [
        "pat = \"Green\"\n",
        "print(re.search(\"e{1,2}\",pat)) # e repeating > 1 and <= 2 \n",
        "pat = \"Green\"\n",
        "print(re.search(\"e{3,4}\",pat)) # e repeating > 3 and <= 4 "
      ],
      "execution_count": 39,
      "outputs": [
        {
          "output_type": "stream",
          "text": [
            "<_sre.SRE_Match object; span=(2, 4), match='ee'>\n",
            "None\n"
          ],
          "name": "stdout"
        }
      ]
    },
    {
      "cell_type": "markdown",
      "metadata": {
        "id": "DJAOZsFaUF_t",
        "colab_type": "text"
      },
      "source": [
        "### 6. | - Alternation\n",
        "\n",
        "Vertical bar | is used for alternation (or operator)."
      ]
    },
    {
      "cell_type": "code",
      "metadata": {
        "id": "Pa86iaaf1XOT",
        "colab_type": "code",
        "colab": {
          "base_uri": "https://localhost:8080/",
          "height": 50
        },
        "outputId": "3a740a88-1b23-46ab-e667-87774ed0c144"
      },
      "source": [
        "pat = \"green\"\n",
        "print(re.search(\"g|n\",pat)) # String containing g and n \n",
        "pat = \"red\"\n",
        "print(re.search(\"z|r\",pat)) # String containing z or r "
      ],
      "execution_count": 46,
      "outputs": [
        {
          "output_type": "stream",
          "text": [
            "<_sre.SRE_Match object; span=(0, 1), match='g'>\n",
            "<_sre.SRE_Match object; span=(0, 1), match='r'>\n"
          ],
          "name": "stdout"
        }
      ]
    },
    {
      "cell_type": "markdown",
      "metadata": {
        "id": "bzcZhdBZUo0E",
        "colab_type": "text"
      },
      "source": [
        "### 7. () - Group\n",
        "\n",
        "Parentheses () is used to group sub-patterns. For example, (a|b|c)xz match any string that matches either a or b or c followed by xz"
      ]
    },
    {
      "cell_type": "code",
      "metadata": {
        "id": "g_tPItUdUbE2",
        "colab_type": "code",
        "colab": {
          "base_uri": "https://localhost:8080/",
          "height": 50
        },
        "outputId": "e9410c9f-1261-4758-c5d0-18e3ed243a31"
      },
      "source": [
        "pat = \"green\"\n",
        "print(re.search(\"(g|e)n\",pat)) # String match g or e followed by n \n",
        "pat = \"green\"\n",
        "print(re.search(\"(g|r)c\",pat)) # String match g or r followed by n"
      ],
      "execution_count": 50,
      "outputs": [
        {
          "output_type": "stream",
          "text": [
            "<_sre.SRE_Match object; span=(3, 5), match='en'>\n",
            "None\n"
          ],
          "name": "stdout"
        }
      ]
    },
    {
      "cell_type": "markdown",
      "metadata": {
        "id": "HJPAIZ-ayKLy",
        "colab_type": "text"
      },
      "source": [
        "#### \\ - Backslash\n",
        "\n",
        "Backlash \\ is used to escape various characters including all metacharacters. For example,\n",
        "\n",
        "\\$a match if a string contains $ followed by a. Here, $ is not interpreted by a RegEx engine in a special way.\n",
        "\n",
        "If you are unsure if a character has special meaning or not, you can put \\ in front of it. This makes sure the character is not treated in a special way."
      ]
    },
    {
      "cell_type": "markdown",
      "metadata": {
        "id": "ezOBFagyyYc1",
        "colab_type": "text"
      },
      "source": [
        "##### \\A - Matches if the specified characters are at the start of a string."
      ]
    },
    {
      "cell_type": "code",
      "metadata": {
        "id": "1QFa4ItiW4Xs",
        "colab_type": "code",
        "colab": {
          "base_uri": "https://localhost:8080/",
          "height": 50
        },
        "outputId": "d2cd4657-e676-48cf-c6c0-86dbe1cfd9e5"
      },
      "source": [
        "pat = \"The sky is blue\"\n",
        "print(re.search(\"\\AThe\",pat)) # The at start of string \n",
        "pat = \"It is on the table\"\n",
        "print(re.search(\"\\AThe\",pat)) # The at start of string "
      ],
      "execution_count": 52,
      "outputs": [
        {
          "output_type": "stream",
          "text": [
            "<_sre.SRE_Match object; span=(0, 3), match='The'>\n",
            "None\n"
          ],
          "name": "stdout"
        }
      ]
    },
    {
      "cell_type": "markdown",
      "metadata": {
        "id": "J4H7q9BfzSlU",
        "colab_type": "text"
      },
      "source": [
        "#### \\b - Matches if the specified characters are at the beginning or end of a word."
      ]
    },
    {
      "cell_type": "code",
      "metadata": {
        "id": "ZenokOM6zPWR",
        "colab_type": "code",
        "colab": {
          "base_uri": "https://localhost:8080/",
          "height": 50
        },
        "outputId": "796861bc-0eb5-4b93-c3f5-128c185c6197"
      },
      "source": [
        "pat = \"Cricket\"\n",
        "print(re.search(r\"\\bCri\",pat)) # String starts with Cri\n",
        "pat = \"Hollywood\"\n",
        "print(re.search(r\"\\bwood\",pat)) # String starts with wood"
      ],
      "execution_count": 57,
      "outputs": [
        {
          "output_type": "stream",
          "text": [
            "<_sre.SRE_Match object; span=(0, 3), match='Cri'>\n",
            "None\n"
          ],
          "name": "stdout"
        }
      ]
    },
    {
      "cell_type": "markdown",
      "metadata": {
        "id": "KJIafrR00UH0",
        "colab_type": "text"
      },
      "source": [
        "#### \\B - Matches if the specified characters are NOT at the beginning or end of a word."
      ]
    },
    {
      "cell_type": "code",
      "metadata": {
        "id": "EvU4VpmAzw5w",
        "colab_type": "code",
        "colab": {
          "base_uri": "https://localhost:8080/",
          "height": 50
        },
        "outputId": "d7ca57f3-839b-4f3b-bf77-781ae7fd055d"
      },
      "source": [
        "pat = \"Dollar\"\n",
        "print(re.search(\"\\BDo\",pat)) # string with 'Do' not in begining\n",
        "pat = \"Cricket\"\n",
        "print(re.match(\"\\Bck\",pat)) # string with 'ck' not in begining"
      ],
      "execution_count": 60,
      "outputs": [
        {
          "output_type": "stream",
          "text": [
            "None\n",
            "None\n"
          ],
          "name": "stdout"
        }
      ]
    },
    {
      "cell_type": "markdown",
      "metadata": {
        "id": "mRCN8gnz0dJU",
        "colab_type": "text"
      },
      "source": [
        "#### \\d - Matches any decimal digit. Equivalent to [0-9]"
      ]
    },
    {
      "cell_type": "code",
      "metadata": {
        "id": "zFDwTIGA0cEY",
        "colab_type": "code",
        "colab": {
          "base_uri": "https://localhost:8080/",
          "height": 50
        },
        "outputId": "3238b607-c0ef-43a5-a826-084f83140d93"
      },
      "source": [
        "pat = \"A1\"\n",
        "print(re.search(\"\\d\",pat)) # String containing numbers \n",
        "pat = \"Green\"\n",
        "print(re.search(\"\\d\",pat)) # String containing numbers "
      ],
      "execution_count": 62,
      "outputs": [
        {
          "output_type": "stream",
          "text": [
            "<_sre.SRE_Match object; span=(1, 2), match='1'>\n",
            "None\n"
          ],
          "name": "stdout"
        }
      ]
    },
    {
      "cell_type": "markdown",
      "metadata": {
        "id": "D0OP9sGR1EtW",
        "colab_type": "text"
      },
      "source": [
        "#### \\D - Matches any non-decimal digit. Equivalent to [^0-9]"
      ]
    },
    {
      "cell_type": "code",
      "metadata": {
        "id": "KCrxlDxL0qkJ",
        "colab_type": "code",
        "colab": {
          "base_uri": "https://localhost:8080/",
          "height": 50
        },
        "outputId": "1956a997-e3f3-4e0c-b825-0c743c9d69f2"
      },
      "source": [
        "pat = \"1\"\n",
        "print(re.search(\"\\D\",pat)) # String NOT containing numbers\n",
        "pat = \"Green\"\n",
        "print(re.search(\"\\D\",pat)) # String NOT containing numbers"
      ],
      "execution_count": 65,
      "outputs": [
        {
          "output_type": "stream",
          "text": [
            "None\n",
            "<_sre.SRE_Match object; span=(0, 1), match='G'>\n"
          ],
          "name": "stdout"
        }
      ]
    },
    {
      "cell_type": "markdown",
      "metadata": {
        "id": "Hqp_JMPJ1b3F",
        "colab_type": "text"
      },
      "source": [
        "#### \\s - Matches where a string contains any whitespace character. Equivalent to [ \\t\\n\\r\\f\\v]."
      ]
    },
    {
      "cell_type": "code",
      "metadata": {
        "id": "dy9BYhVg1NfT",
        "colab_type": "code",
        "colab": {
          "base_uri": "https://localhost:8080/",
          "height": 50
        },
        "outputId": "bf9b0b68-0b9e-4abb-c6d7-bddb7789982d"
      },
      "source": [
        "pat = \"I am a boy\"\n",
        "print(re.search(\"\\s\",pat)) # String containing space \n",
        "pat = \"abc\"\n",
        "print(re.search(\"\\s\",pat)) # String containing space "
      ],
      "execution_count": 67,
      "outputs": [
        {
          "output_type": "stream",
          "text": [
            "<_sre.SRE_Match object; span=(1, 2), match=' '>\n",
            "None\n"
          ],
          "name": "stdout"
        }
      ]
    },
    {
      "cell_type": "markdown",
      "metadata": {
        "id": "OwvU97UW2B54",
        "colab_type": "text"
      },
      "source": [
        "\\S - Matches where a string contains any non-whitespace character. Equivalent to [^ \\t\\n\\r\\f\\v]"
      ]
    },
    {
      "cell_type": "code",
      "metadata": {
        "id": "uJcHrsQH168s",
        "colab_type": "code",
        "colab": {
          "base_uri": "https://localhost:8080/",
          "height": 50
        },
        "outputId": "46e0865e-a788-4a4a-aff7-985fbdbf244b"
      },
      "source": [
        "pat = \" \"\n",
        "print(re.search(\"\\S\",pat)) # String not containing space \n",
        "pat = \"abc\"\n",
        "print(re.search(\"\\S\",pat)) # String not containing space"
      ],
      "execution_count": 72,
      "outputs": [
        {
          "output_type": "stream",
          "text": [
            "None\n",
            "<_sre.SRE_Match object; span=(0, 1), match='a'>\n"
          ],
          "name": "stdout"
        }
      ]
    },
    {
      "cell_type": "markdown",
      "metadata": {
        "id": "kSWT0MOl2H2T",
        "colab_type": "text"
      },
      "source": [
        "\\w - Matches any alphanumeric character (digits and alphabets). Equivalent to [a-zA-Z0-9_]. By the way, underscore _ is also considered an alphanumeric character."
      ]
    },
    {
      "cell_type": "code",
      "metadata": {
        "id": "1AYIyR8F2G9f",
        "colab_type": "code",
        "colab": {
          "base_uri": "https://localhost:8080/",
          "height": 50
        },
        "outputId": "99dbac3f-89a7-4dd6-e8bb-72334f8b3bdd"
      },
      "source": [
        "pat = \"Green\"\n",
        "print(re.match(\"\\w\",pat)) # String with nubers and characters \n",
        "pat = \"@@@\"\n",
        "print(re.match(\"\\w\",pat)) # String with nubers and characters "
      ],
      "execution_count": 73,
      "outputs": [
        {
          "output_type": "stream",
          "text": [
            "<_sre.SRE_Match object; span=(0, 1), match='G'>\n",
            "None\n"
          ],
          "name": "stdout"
        }
      ]
    },
    {
      "cell_type": "markdown",
      "metadata": {
        "id": "U1ilTJDg2WGD",
        "colab_type": "text"
      },
      "source": [
        "\\W - Matches any non-alphanumeric character. Equivalent to [^a-zA-Z0-9_]"
      ]
    },
    {
      "cell_type": "code",
      "metadata": {
        "id": "ZQBGA5g-2TBO",
        "colab_type": "code",
        "colab": {
          "base_uri": "https://localhost:8080/",
          "height": 50
        },
        "outputId": "1ab39283-c8c9-4bb1-b0dc-8766c1d15700"
      },
      "source": [
        "pat = \"Green\"\n",
        "print(re.search(\"\\W\",pat)) # String with nubers and characters \n",
        "pat = \"@@@\"\n",
        "print(re.match(\"\\W\",pat)) # String with nubers and characters "
      ],
      "execution_count": 74,
      "outputs": [
        {
          "output_type": "stream",
          "text": [
            "None\n",
            "<_sre.SRE_Match object; span=(0, 1), match='@'>\n"
          ],
          "name": "stdout"
        }
      ]
    },
    {
      "cell_type": "markdown",
      "metadata": {
        "id": "lnqOwnDT2qdb",
        "colab_type": "text"
      },
      "source": [
        "\\Z - Matches if the specified characters are at the end of a string."
      ]
    },
    {
      "cell_type": "code",
      "metadata": {
        "id": "5ljDWYes2b5O",
        "colab_type": "code",
        "colab": {
          "base_uri": "https://localhost:8080/",
          "height": 50
        },
        "outputId": "ea8dcf4c-b8eb-424c-d732-611efa7e792a"
      },
      "source": [
        "pat = \"football\"\n",
        "print(re.search(\"\\bfoo\",pat)) # String end with foo \n",
        "pat = \"It is on the table\"\n",
        "print(re.search(\"table\\Z\",pat)) # String end with table "
      ],
      "execution_count": 77,
      "outputs": [
        {
          "output_type": "stream",
          "text": [
            "None\n",
            "<_sre.SRE_Match object; span=(13, 18), match='table'>\n"
          ],
          "name": "stdout"
        }
      ]
    },
    {
      "cell_type": "markdown",
      "metadata": {
        "id": "OssL0STU3ZSM",
        "colab_type": "text"
      },
      "source": [
        "#### re.findall()\n",
        "The re.findall() method returns a list of strings containing all matches."
      ]
    },
    {
      "cell_type": "code",
      "metadata": {
        "id": "aELNGqbn3Ygt",
        "colab_type": "code",
        "colab": {
          "base_uri": "https://localhost:8080/",
          "height": 34
        },
        "outputId": "57ee4426-abe7-4efa-f657-7f61d6c7b29b"
      },
      "source": [
        "string = '1 Green 2 Red 3 blue'\n",
        "pattern = '\\d+'\n",
        "\n",
        "result = re.findall(pattern, string) \n",
        "print(result)"
      ],
      "execution_count": 79,
      "outputs": [
        {
          "output_type": "stream",
          "text": [
            "['1', '2', '3']\n"
          ],
          "name": "stdout"
        }
      ]
    },
    {
      "cell_type": "markdown",
      "metadata": {
        "id": "ISKLyJD-3kZj",
        "colab_type": "text"
      },
      "source": [
        "#### re.split()\n",
        "The re.split method splits the string where there is a match and returns a list of strings where the splits have occurred."
      ]
    },
    {
      "cell_type": "code",
      "metadata": {
        "id": "dmcr1Ne_246P",
        "colab_type": "code",
        "colab": {
          "base_uri": "https://localhost:8080/",
          "height": 34
        },
        "outputId": "8663d4d4-1cc1-44b9-8a61-385b864d7a16"
      },
      "source": [
        "string = '1:red 2:green 3:blue'\n",
        "pattern = '\\d+'\n",
        "\n",
        "result = re.split(pattern, string) \n",
        "print(result)"
      ],
      "execution_count": 81,
      "outputs": [
        {
          "output_type": "stream",
          "text": [
            "['', ':red ', ':green ', ':blue']\n"
          ],
          "name": "stdout"
        }
      ]
    },
    {
      "cell_type": "markdown",
      "metadata": {
        "id": "5e8AY0zG3vKK",
        "colab_type": "text"
      },
      "source": [
        "re.sub()\n",
        "The syntax of re.sub() is:\n",
        "The method returns a string where matched occurrences are replaced with the content of replace variable."
      ]
    },
    {
      "cell_type": "code",
      "metadata": {
        "id": "fCf7BWQu3uS2",
        "colab_type": "code",
        "colab": {
          "base_uri": "https://localhost:8080/",
          "height": 35
        },
        "outputId": "8706439e-15db-4cf1-f02b-fa247a75b979"
      },
      "source": [
        "#re.sub(pattern, replace, string)\n",
        "re.sub(\"A\", \"B\", \"AB\")"
      ],
      "execution_count": 82,
      "outputs": [
        {
          "output_type": "execute_result",
          "data": {
            "application/vnd.google.colaboratory.intrinsic+json": {
              "type": "string"
            },
            "text/plain": [
              "'BB'"
            ]
          },
          "metadata": {
            "tags": []
          },
          "execution_count": 82
        }
      ]
    },
    {
      "cell_type": "markdown",
      "metadata": {
        "id": "m2MFDVXA4RyO",
        "colab_type": "text"
      },
      "source": [
        "#### re.subn()\n",
        "The re.subn() is similar to re.sub() expect it returns a tuple of 2 items containing the new string and the number of substitutions made."
      ]
    },
    {
      "cell_type": "code",
      "metadata": {
        "id": "R77AV0C939Em",
        "colab_type": "code",
        "colab": {
          "base_uri": "https://localhost:8080/",
          "height": 34
        },
        "outputId": "ce97dd73-323d-4769-ebc2-37f8a0adf933"
      },
      "source": [
        "# multiline string\n",
        "string = 'red 1\\\n",
        "blue 2 \\n green 3'\n",
        "\n",
        "# matches all whitespace characters\n",
        "pattern = '\\s+'\n",
        "\n",
        "# empty string\n",
        "replace = ''\n",
        "\n",
        "new_string = re.subn(pattern, replace, string) \n",
        "print(new_string)"
      ],
      "execution_count": 84,
      "outputs": [
        {
          "output_type": "stream",
          "text": [
            "('red1blue2green3', 4)\n"
          ],
          "name": "stdout"
        }
      ]
    },
    {
      "cell_type": "markdown",
      "metadata": {
        "id": "EmQI4d4P4YDc",
        "colab_type": "text"
      },
      "source": [
        "#### re.search()\n",
        "The re.search() method takes two arguments: a pattern and a string. The method looks for the first location where the RegEx pattern produces a match with the string.\n",
        "\n",
        "If the search is successful, re.search() returns a match object; if not, it returns None"
      ]
    },
    {
      "cell_type": "code",
      "metadata": {
        "id": "_DsRtjPY4XEL",
        "colab_type": "code",
        "colab": {}
      },
      "source": [
        "match = re.search(\"x\", \"xyz\")"
      ],
      "execution_count": null,
      "outputs": []
    },
    {
      "cell_type": "code",
      "metadata": {
        "id": "NkIYc5pp4ypR",
        "colab_type": "code",
        "colab": {
          "base_uri": "https://localhost:8080/",
          "height": 34
        },
        "outputId": "870a05e1-79b6-46f5-e459-782865ba2f71"
      },
      "source": [
        "string = \"Sky is blue\"\n",
        "\n",
        "# check if 'sky' is at the beginning\n",
        "match = re.search('\\ASky', string)\n",
        "\n",
        "if match:\n",
        "  print(\"pattern found inside the string\")\n",
        "else:\n",
        "  print(\"pattern not found\")  \n",
        "\n",
        "# Output: pattern found inside the string"
      ],
      "execution_count": 87,
      "outputs": [
        {
          "output_type": "stream",
          "text": [
            "pattern found inside the string\n"
          ],
          "name": "stdout"
        }
      ]
    },
    {
      "cell_type": "markdown",
      "metadata": {
        "id": "AqcqNfVn4sf6",
        "colab_type": "text"
      },
      "source": [
        "\n",
        "#### Match object\n",
        "You can get methods and attributes of a match object using dir() function.\n",
        "\n",
        "Some of the commonly used methods and attributes of match objects are:\n",
        "\n",
        "match.group()\n",
        "The group() method returns the part of the string where there is a match.\n",
        "\n"
      ]
    },
    {
      "cell_type": "code",
      "metadata": {
        "id": "PttKp9oY4l-V",
        "colab_type": "code",
        "colab": {
          "base_uri": "https://localhost:8080/",
          "height": 34
        },
        "outputId": "c9b62030-b69c-42f0-b414-595e150cd77f"
      },
      "source": [
        "string = '39801 356, 2102 1111'\n",
        "\n",
        "# Three digit number followed by space followed by two digit number\n",
        "pattern = '(\\d{3}) (\\d{2})'\n",
        "\n",
        "# match variable contains a Match object.\n",
        "match = re.search(pattern, string) \n",
        "\n",
        "if match:\n",
        "  print(match.group())\n",
        "else:\n",
        "  print(\"pattern not found\")"
      ],
      "execution_count": 88,
      "outputs": [
        {
          "output_type": "stream",
          "text": [
            "801 35\n"
          ],
          "name": "stdout"
        }
      ]
    },
    {
      "cell_type": "markdown",
      "metadata": {
        "id": "opF9dxks5cDp",
        "colab_type": "text"
      },
      "source": [
        "#### match.start(), match.end() and match.span()\n",
        "The start() function returns the index of the start of the matched substring. Similarly, end() returns the end index of the matched substring."
      ]
    },
    {
      "cell_type": "code",
      "metadata": {
        "id": "RsLymwjZ5MA4",
        "colab_type": "code",
        "colab": {
          "base_uri": "https://localhost:8080/",
          "height": 34
        },
        "outputId": "15c249b5-1e96-41d2-f7b7-61a9d6186602"
      },
      "source": [
        ">>> match.start()\n",
        "2\n",
        ">>> match.end()\n",
        "8"
      ],
      "execution_count": null,
      "outputs": [
        {
          "output_type": "execute_result",
          "data": {
            "text/plain": [
              "8"
            ]
          },
          "metadata": {
            "tags": []
          },
          "execution_count": 34
        }
      ]
    },
    {
      "cell_type": "code",
      "metadata": {
        "id": "nbSgCBv85pbG",
        "colab_type": "code",
        "colab": {}
      },
      "source": [
        ""
      ],
      "execution_count": null,
      "outputs": []
    }
  ]
}